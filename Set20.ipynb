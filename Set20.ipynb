{
  "cells": [
    {
      "cell_type": "markdown",
      "metadata": {
        "id": "view-in-github",
        "colab_type": "text"
      },
      "source": [
        "<a href=\"https://colab.research.google.com/github/abeliansw/0dte-trader/blob/master/Set20.ipynb\" target=\"_parent\"><img src=\"https://colab.research.google.com/assets/colab-badge.svg\" alt=\"Open In Colab\"/></a>"
      ]
    },
    {
      "cell_type": "markdown",
      "id": "17e91d82",
      "metadata": {
        "id": "17e91d82"
      },
      "source": [
        "# [ProDS Asso] Set5"
      ]
    },
    {
      "cell_type": "code",
      "execution_count": null,
      "id": "8882e186",
      "metadata": {
        "id": "8882e186"
      },
      "outputs": [],
      "source": [
        "import pandas as pd\n",
        "import numpy as np"
      ]
    },
    {
      "cell_type": "code",
      "execution_count": null,
      "id": "04f3561d",
      "metadata": {
        "id": "04f3561d",
        "outputId": "14e0d294-b59f-4bdc-f39b-4903b6607c56"
      },
      "outputs": [
        {
          "data": {
            "text/plain": [
              "France     5014\n",
              "Germany    2509\n",
              "Spain      2477\n",
              "Name: Geography, dtype: int64"
            ]
          },
          "execution_count": 2,
          "metadata": {},
          "output_type": "execute_result"
        }
      ],
      "source": [
        "churn=pd.read_csv('churn2.csv')\n",
        "\n",
        "churn.columns\n",
        "# ['CustomerId', 'CreditScore', 'Geography', 'Gender', 'Age', 'Tenure',\n",
        "#        'Balance', 'NumOfProducts', 'EstimatedSalary', 'Exited']\n",
        "churn.isna().sum()\n",
        "churn.Geography.value_counts()"
      ]
    },
    {
      "cell_type": "markdown",
      "id": "a9986461",
      "metadata": {
        "id": "a9986461"
      },
      "source": [
        "## Q1 (결측치 제거된 데이터셋명:'basetable'로 사용)"
      ]
    },
    {
      "cell_type": "code",
      "execution_count": null,
      "id": "b245dccd",
      "metadata": {
        "id": "b245dccd",
        "outputId": "16abe629-fade-48b7-f04c-f2cf8feaab76"
      },
      "outputs": [
        {
          "name": "stdout",
          "output_type": "stream",
          "text": [
            "100015\n"
          ]
        }
      ],
      "source": [
        "q1=churn.dropna()\n",
        "basetable=q1.copy()\n",
        "q1_ans=q1[q1.Geography=='Spain']['EstimatedSalary'].median()\n",
        "print(int(q1_ans)) # 100015.79\n",
        "\n",
        "\n",
        "# 답) 100015"
      ]
    },
    {
      "cell_type": "markdown",
      "id": "284bf8c8",
      "metadata": {
        "id": "284bf8c8"
      },
      "source": [
        "## Q2"
      ]
    },
    {
      "cell_type": "code",
      "execution_count": null,
      "id": "b6e66a3b",
      "metadata": {
        "id": "b6e66a3b",
        "outputId": "6f50969b-2ad2-4a88-b273-4cea6d2d9da3"
      },
      "outputs": [
        {
          "name": "stdout",
          "output_type": "stream",
          "text": [
            "2.73\n"
          ]
        }
      ],
      "source": [
        "from scipy.stats import ttest_ind\n",
        "\n",
        "q2=ttest_ind(basetable[basetable.Exited==1]['CreditScore'],\n",
        "          basetable[basetable.Exited==0]['CreditScore'])\n",
        "\n",
        "# basetable.groupby('Geography').mean()\n",
        "\n",
        "q2_ans=round(abs(q2.statistic),2)\n",
        "\n",
        "print(q2_ans) # 2.7287427794456387\n",
        "\n",
        "\n",
        "# 답: 2.73"
      ]
    },
    {
      "cell_type": "markdown",
      "id": "81fc26d6",
      "metadata": {
        "id": "81fc26d6"
      },
      "source": [
        "## Q3"
      ]
    },
    {
      "cell_type": "code",
      "execution_count": null,
      "id": "ebcdb937",
      "metadata": {
        "id": "ebcdb937",
        "outputId": "0ab0af81-9361-463f-e97c-db5428bd1ec7"
      },
      "outputs": [
        {
          "data": {
            "text/plain": [
              "0.8"
            ]
          },
          "execution_count": 5,
          "metadata": {},
          "output_type": "execute_result"
        }
      ],
      "source": [
        "from sklearn.tree import DecisionTreeClassifier\n",
        "from sklearn.metrics import f1_score, confusion_matrix, accuracy_score\n",
        "\n",
        "\n",
        "q3=basetable.copy()\n",
        "\n",
        "train=q3.copy()\n",
        "test=q3[q3.Type == 'test']\n",
        "\n",
        "var_list=['CreditScore', 'Gender', 'Age',\n",
        "          'Balance', 'NumOfProducts', 'Tenure']\n",
        "\n",
        "# 'CreditScore', 'Balance', 'Tenure', 'NumOfProducts', 'EstimatedSalary'\n",
        "\n",
        "dt=DecisionTreeClassifier(random_state=123, min_samples_leaf=3)\n",
        "dt.fit(train[var_list], train['Exited'])\n",
        "\n",
        "q3_pred=dt.predict(test[var_list])\n",
        "\n",
        "\n",
        "round(f1_score(test['Exited'], q3_pred),2)\n",
        "\n",
        "# 답: 0.80"
      ]
    },
    {
      "cell_type": "markdown",
      "id": "a9cab6b9",
      "metadata": {
        "id": "a9cab6b9"
      },
      "source": [
        "## 참고"
      ]
    },
    {
      "cell_type": "code",
      "execution_count": null,
      "id": "e6b4141a",
      "metadata": {
        "id": "e6b4141a",
        "outputId": "c1810aca-a248-4ed6-d962-6e047168b920"
      },
      "outputs": [
        {
          "data": {
            "text/plain": [
              "0.9239783653846154"
            ]
          },
          "execution_count": 6,
          "metadata": {},
          "output_type": "execute_result"
        }
      ],
      "source": [
        "accuracy_score(test['Exited'], q3_pred) # 0.92"
      ]
    },
    {
      "cell_type": "code",
      "execution_count": null,
      "id": "4e8375dc",
      "metadata": {
        "id": "4e8375dc",
        "outputId": "bf1992c2-a033-4fef-9702-5b50ea3d603c"
      },
      "outputs": [
        {
          "data": {
            "text/plain": [
              "array([[2553,   89],\n",
              "       [ 164,  522]], dtype=int64)"
            ]
          },
          "execution_count": 7,
          "metadata": {},
          "output_type": "execute_result"
        }
      ],
      "source": [
        "confusion_matrix(test['Exited'], q3_pred)"
      ]
    }
  ],
  "metadata": {
    "kernelspec": {
      "display_name": "Python 3 (ipykernel)",
      "language": "python",
      "name": "python3"
    },
    "language_info": {
      "codemirror_mode": {
        "name": "ipython",
        "version": 3
      },
      "file_extension": ".py",
      "mimetype": "text/x-python",
      "name": "python",
      "nbconvert_exporter": "python",
      "pygments_lexer": "ipython3",
      "version": "3.9.7"
    },
    "colab": {
      "provenance": [],
      "include_colab_link": true
    }
  },
  "nbformat": 4,
  "nbformat_minor": 5
}